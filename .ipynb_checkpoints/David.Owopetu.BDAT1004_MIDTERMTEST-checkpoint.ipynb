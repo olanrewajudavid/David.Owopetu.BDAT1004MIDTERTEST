{
 "cells": [
  {
   "cell_type": "markdown",
   "metadata": {},
   "source": [
    "![GEORGIAN COLLEGE](GeorgianCollgeLogo.png)\n",
    "<h2><font color='#004b87'><center>MID TERM TEST</center></font></h2>\n",
    "<h3><font color='#004b87'><center>BDAT 1004 - DATA PROGRAMMING</center></font></h3>\n",
    "<h3><font color='#004b87'><center>STUDENT'S NAME: DAVID OWOPETU</center></font></h3>\n",
    "<h3><font color='#004b87'><center>STUDENT'S ID: 200573602</center></font></h3>\n",
    "<h3><font color='#004b87'><center>Winter Semester - 2024</center></font></h3>\n",
    "<hr>"
   ]
  },
  {
   "cell_type": "markdown",
   "metadata": {},
   "source": [
    "### Question 21 Solution "
   ]
  },
  {
   "cell_type": "code",
   "execution_count": 4,
   "metadata": {},
   "outputs": [
    {
     "name": "stdout",
     "output_type": "stream",
     "text": [
      "Length of the segment: 5.0\n",
      "Slope of the segment: 1.3333333333333333\n"
     ]
    }
   ],
   "source": [
    "class Point:\n",
    "    def __init__(self, x=0, y=0):\n",
    "        self.x = x\n",
    "        self.y = y\n",
    "\n",
    "class Segment:\n",
    "    def __init__(self, point1, point2):\n",
    "        self.point1 = point1\n",
    "        self.point2 = point2\n",
    "\n",
    "    def length(self):\n",
    "        return ((self.point2.x - self.point1.x)**2 + (self.point2.y - self.point1.y)**2)**0.5\n",
    "\n",
    "    def slope(self):\n",
    "        if self.point2.x - self.point1.x == 0:\n",
    "            return None  )\n",
    "        return (self.point2.y - self.point1.y) / (self.point2.x - self.point1.x)\n",
    "\n",
    "# cASE USAGE:\n",
    "p1 = Point(3, 4)\n",
    "p2 = Point()  # Default values are (0, 0)\n",
    "s = Segment(p1, p2)\n",
    "\n",
    "#\n",
    "print(\"Length of the segment:\", s.length())\n",
    "print(\"Slope of the segment:\", s.slope())"
   ]
  },
  {
   "cell_type": "markdown",
   "metadata": {},
   "source": [
    "### Question 22 Solution "
   ]
  },
  {
   "cell_type": "code",
   "execution_count": 28,
   "metadata": {},
   "outputs": [
    {
     "name": "stdout",
     "output_type": "stream",
     "text": [
      "2\n",
      "4\n"
     ]
    }
   ],
   "source": [
    "import sqlite3\n",
    "con = sqlite3.connect('web.db')\n",
    "cur = con.cursor()\n",
    "\n",
    "\n",
    "cur.execute(\"CREATE TABLE WEATHER3 (id int, recordDate date, temperature int)\")\n",
    "\n",
    "data=[(1, '2015-01-01',10),\n",
    "      (2, '2015-01-02',25),\n",
    "     (3, '2015-01-03',20),\n",
    "     (4, '2015-01-04',30)]\n",
    "\n",
    "for weather in data:\n",
    "    cur.execute(\"INSERT INTO WEATHER3 VALUES (?,?,?)\", weather)\n",
    "    con.commit()\n",
    "\n",
    "cur.execute('''\n",
    "SELECT w2.id\n",
    "FROM WEATHER3 w1\n",
    "JOIN WEATHER3 w2 ON DATE(w1.recordDate, '+1 day') = w2.recordDate\n",
    "WHERE w2.temperature > w1.temperature\n",
    "''')\n",
    "\n",
    "# Fetch the results\n",
    "results = cur.fetchall()\n",
    "\n",
    "# Print the results\n",
    "for row in results:\n",
    "    print(row[0])\n",
    "\n",
    "# Close the connection\n",
    "con.close()\n",
    "\n"
   ]
  },
  {
   "cell_type": "markdown",
   "metadata": {},
   "source": [
    "### Question 23 Solution "
   ]
  },
  {
   "cell_type": "code",
   "execution_count": 42,
   "metadata": {},
   "outputs": [
    {
     "name": "stdout",
     "output_type": "stream",
     "text": [
      "*\n"
     ]
    },
    {
     "ename": "NameError",
     "evalue": "name 'indentation' is not defined",
     "output_type": "error",
     "traceback": [
      "\u001b[1;31m---------------------------------------------------------------------------\u001b[0m",
      "\u001b[1;31mNameError\u001b[0m                                 Traceback (most recent call last)",
      "Cell \u001b[1;32mIn[42], line 11\u001b[0m\n\u001b[0;32m      9\u001b[0m tough(\u001b[38;5;241m0\u001b[39m, \u001b[38;5;241m0\u001b[39m)\n\u001b[0;32m     10\u001b[0m tough(\u001b[38;5;241m0\u001b[39m, \u001b[38;5;241m1\u001b[39m)\n\u001b[1;32m---> 11\u001b[0m tough(\u001b[38;5;241m0\u001b[39m, \u001b[38;5;241m2\u001b[39m)\n\u001b[0;32m     12\u001b[0m f(\u001b[38;5;241m0\u001b[39m, \u001b[38;5;241m4\u001b[39m)\n",
      "Cell \u001b[1;32mIn[42], line 5\u001b[0m, in \u001b[0;36mtough\u001b[1;34m(indentation, pattern)\u001b[0m\n\u001b[0;32m      3\u001b[0m     \u001b[38;5;28;01mreturn\u001b[39;00m\n\u001b[0;32m      4\u001b[0m \u001b[38;5;28;01melse\u001b[39;00m:\n\u001b[1;32m----> 5\u001b[0m     f(indentation \u001b[38;5;241m+\u001b[39m \u001b[38;5;241m2\u001b[39m, pattern \u001b[38;5;241m-\u001b[39m \u001b[38;5;241m1\u001b[39m)\n\u001b[0;32m      6\u001b[0m     \u001b[38;5;28mprint\u001b[39m(\u001b[38;5;124m\"\u001b[39m\u001b[38;5;124m \u001b[39m\u001b[38;5;124m\"\u001b[39m \u001b[38;5;241m*\u001b[39m indentation \u001b[38;5;241m+\u001b[39m \u001b[38;5;124m\"\u001b[39m\u001b[38;5;124m*\u001b[39m\u001b[38;5;124m\"\u001b[39m \u001b[38;5;241m*\u001b[39m pattern)\n",
      "Cell \u001b[1;32mIn[37], line 5\u001b[0m, in \u001b[0;36mf\u001b[1;34m(indent, pattern)\u001b[0m\n\u001b[0;32m      3\u001b[0m     \u001b[38;5;28;01mreturn\u001b[39;00m\n\u001b[0;32m      4\u001b[0m \u001b[38;5;28;01melse\u001b[39;00m:\n\u001b[1;32m----> 5\u001b[0m     f(indentation \u001b[38;5;241m+\u001b[39m \u001b[38;5;241m2\u001b[39m, pattern \u001b[38;5;241m-\u001b[39m \u001b[38;5;241m1\u001b[39m)\n\u001b[0;32m      6\u001b[0m     \u001b[38;5;28mprint\u001b[39m(\u001b[38;5;124m\"\u001b[39m\u001b[38;5;124m \u001b[39m\u001b[38;5;124m\"\u001b[39m \u001b[38;5;241m*\u001b[39m indentation \u001b[38;5;241m+\u001b[39m \u001b[38;5;124m\"\u001b[39m\u001b[38;5;124m*\u001b[39m\u001b[38;5;124m\"\u001b[39m \u001b[38;5;241m*\u001b[39m pattern)\n",
      "\u001b[1;31mNameError\u001b[0m: name 'indentation' is not defined"
     ]
    }
   ],
   "source": [
    "def tough(indentation, pattern):\n",
    "    if pattern == 0:\n",
    "        return\n",
    "    else:\n",
    "        f(indentation + 2, pattern - 1)\n",
    "        print(\" \" * indentation + \"*\" * pattern)\n",
    "\n",
    "# Test cases\n",
    "tough(0, 0)\n",
    "tough(0, 1)\n",
    "tough(0, 2)\n",
    "f(0, 4)"
   ]
  },
  {
   "cell_type": "code",
   "execution_count": null,
   "metadata": {},
   "outputs": [],
   "source": []
  }
 ],
 "metadata": {
  "celltoolbar": "Slideshow",
  "kernelspec": {
   "display_name": "Python 3 (ipykernel)",
   "language": "python",
   "name": "python3"
  },
  "language_info": {
   "codemirror_mode": {
    "name": "ipython",
    "version": 3
   },
   "file_extension": ".py",
   "mimetype": "text/x-python",
   "name": "python",
   "nbconvert_exporter": "python",
   "pygments_lexer": "ipython3",
   "version": "3.11.5"
  }
 },
 "nbformat": 4,
 "nbformat_minor": 4
}
