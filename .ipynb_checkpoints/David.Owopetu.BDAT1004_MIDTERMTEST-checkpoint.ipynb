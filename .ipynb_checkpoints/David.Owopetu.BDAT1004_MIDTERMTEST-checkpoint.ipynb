{
 "cells": [
  {
   "cell_type": "markdown",
   "metadata": {},
   "source": [
    "![GEORGIAN COLLEGE](GeorgianCollgeLogo.png)\n",
    "<h2><font color='#004b87'><center>MID TERM TEST</center></font></h2>\n",
    "<h3><font color='#004b87'><center>BDAT 1004 - DATA PROGRAMMING</center></font></h3>\n",
    "<h3><font color='#004b87'><center>STUDENT'S NAME: DAVID OWOPETU</center></font></h3>\n",
    "<h3><font color='#004b87'><center>STUDENT'S ID: 200573602</center></font></h3>\n",
    "<h3><font color='#004b87'><center>Winter Semester - 2024</center></font></h3>\n",
    "<hr>"
   ]
  },
  {
   "cell_type": "markdown",
   "metadata": {},
   "source": [
    "### Question 21 Solution "
   ]
  },
  {
   "cell_type": "code",
   "execution_count": 51,
   "metadata": {},
   "outputs": [
    {
     "name": "stdout",
     "output_type": "stream",
     "text": [
      "5.0\n",
      "1.3333333333333333\n"
     ]
    }
   ],
   "source": [
    "#Initiate the class\n",
    "\n",
    "class Point:\n",
    "    def __init__(self, x=0, y=0):\n",
    "        self.x = x\n",
    "        self.y = y\n",
    "\n",
    "class Segment:\n",
    "    def __init__(self, point1, point2):\n",
    "        self.point1 = point1\n",
    "        self.point2 = point2\n",
    "\n",
    "    def length(self):\n",
    "        return ((self.point2.x - self.point1.x)**2 + (self.point2.y - self.point1.y)**2)**0.5\n",
    "\n",
    "    def slope(self):\n",
    "        if self.point2.x - self.point1.x == 0:\n",
    "            return None  \n",
    "        return (self.point2.y - self.point1.y) / (self.point2.x - self.point1.x)\n",
    "\n",
    "# Example usage:\n",
    "p1 = Point(3, 4)\n",
    "p2 = Point()  # Default values are (0, 0)\n",
    "s = Segment(p1, p2)\n",
    "\n",
    "#\n",
    "print(s.length())\n",
    "print(s.slope())"
   ]
  },
  {
   "cell_type": "markdown",
   "metadata": {},
   "source": [
    "### Question 22 Solution "
   ]
  },
  {
   "cell_type": "code",
   "execution_count": 74,
   "metadata": {},
   "outputs": [
    {
     "name": "stdout",
     "output_type": "stream",
     "text": [
      "2\n",
      "4\n"
     ]
    }
   ],
   "source": [
    "import sqlite3\n",
    "con = sqlite3.connect('web.db')\n",
    "cur = con.cursor()\n",
    "\n",
    "#CREATE TABLE : WEATHER_TABLE\n",
    "cur.execute(\"CREATE TABLE WEATHER_TABLE (id int, recordDate date, temperature int)\")\n",
    "\n",
    "#Create the data values in a list\n",
    "data=[(1, '2015-01-01',10),\n",
    "      (2, '2015-01-02',25),\n",
    "     (3, '2015-01-03',20),\n",
    "     (4, '2015-01-04',30)]\n",
    "\n",
    "# Insert the data into the table\n",
    "for weather in data:\n",
    "    cur.execute(\"INSERT INTO WEATHER_TABLE VALUES (?,?,?)\", weather)\n",
    "    con.commit()\n",
    "\n",
    "#Execute the logic for printing the id's \n",
    "cur.execute('''\n",
    "SELECT w2.id\n",
    "FROM WEATHER_TABLE w1\n",
    "JOIN WEATHER_TABLE w2 ON DATE(w1.recordDate, '+1 day') = w2.recordDate\n",
    "WHERE w2.temperature > w1.temperature\n",
    "''')\n",
    "\n",
    "# Fetch the results from the database\n",
    "results = cur.fetchall()\n",
    "\n",
    "# Print the results\n",
    "for row in results:\n",
    "    print(row[0])\n",
    "\n",
    "# Close the connection\n",
    "con.close()\n",
    "\n"
   ]
  },
  {
   "cell_type": "markdown",
   "metadata": {},
   "source": [
    "### Question 23 Solution "
   ]
  },
  {
   "cell_type": "code",
   "execution_count": 72,
   "metadata": {},
   "outputs": [
    {
     "name": "stdout",
     "output_type": "stream",
     "text": [
      "*\n",
      "*\n",
      "**\n",
      " *\n",
      "*\n",
      "**\n",
      " *\n",
      "****\n",
      " *\n",
      " **\n",
      "  *\n"
     ]
    }
   ],
   "source": [
    "def tough(indentation, pattern):\n",
    "    if(pattern > 0):\n",
    "        # print the previous pattern\n",
    "        tough(indentation, pattern//2); \n",
    "        \n",
    "        # print the middle row of the pattern *'s\n",
    "        print(\" \"*indentation + \"*\"*pattern);     \n",
    "        tough(indentation + 1, pattern//2);  \n",
    "        \n",
    "# Test cases\n",
    "tough(0, 0)\n",
    "tough(0, 1)\n",
    "tough(0, 2)\n",
    "tough(0, 4)\n"
   ]
  },
  {
   "cell_type": "code",
   "execution_count": null,
   "metadata": {},
   "outputs": [],
   "source": []
  }
 ],
 "metadata": {
  "celltoolbar": "Slideshow",
  "kernelspec": {
   "display_name": "Python 3 (ipykernel)",
   "language": "python",
   "name": "python3"
  },
  "language_info": {
   "codemirror_mode": {
    "name": "ipython",
    "version": 3
   },
   "file_extension": ".py",
   "mimetype": "text/x-python",
   "name": "python",
   "nbconvert_exporter": "python",
   "pygments_lexer": "ipython3",
   "version": "3.11.5"
  }
 },
 "nbformat": 4,
 "nbformat_minor": 4
}
